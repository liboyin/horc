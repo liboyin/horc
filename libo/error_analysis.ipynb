{
 "cells": [
  {
   "cell_type": "code",
   "execution_count": 1,
   "metadata": {
    "collapsed": false
   },
   "outputs": [
    {
     "name": "stdout",
     "output_type": "stream",
     "text": [
      "num_sift_kp=30\n",
      "name                      object\n",
      "class                   category\n",
      "sift_kp_descriptors       object\n",
      "red_histogram             object\n",
      "green_histogram           object\n",
      "blue_histogram            object\n",
      "hue_histogram             object\n",
      "saturation_histogram      object\n",
      "value_histogram           object\n",
      "dtype: object\n"
     ]
    }
   ],
   "source": [
    "from data import num_sift_kp, lazy_df\n",
    "df = lazy_df()\n",
    "print('num_sift_kp=' + str(num_sift_kp))\n",
    "print df.dtypes"
   ]
  },
  {
   "cell_type": "code",
   "execution_count": 2,
   "metadata": {
    "collapsed": false
   },
   "outputs": [
    {
     "data": {
      "text/plain": [
       "{0: {'image001.JPG', 'image002.JPG', 'image003.JPG', 'image004.JPG'},\n",
       " 1: {'image006.JPG', 'image007.JPG', 'image008.JPG', 'image009.JPG'},\n",
       " 2: {'image011.JPG', 'image012.JPG', 'image013.JPG', 'image014.JPG'},\n",
       " 3: {'image016.JPG', 'image017.JPG', 'image018.JPG', 'image019.JPG'},\n",
       " 4: {'image021.JPG', 'image022.JPG', 'image023.JPG', 'image024.JPG'},\n",
       " 5: {'image031.JPG', 'image032.JPG', 'image033.JPG', 'image034.JPG'},\n",
       " 6: {'image036.JPG', 'image037.JPG', 'image038.JPG', 'image039.JPG'},\n",
       " 7: {'image041.JPG', 'image042.JPG', 'image043.JPG', 'image044.JPG'},\n",
       " 8: {'image046.JPG', 'image047.JPG', 'image048.JPG', 'image049.JPG'},\n",
       " 9: {'image051.JPG', 'image052.JPG', 'image053.JPG', 'image054.JPG'},\n",
       " 10: {'image056.JPG', 'image057.JPG', 'image058.JPG', 'image059.JPG'},\n",
       " 11: {'image061.JPG', 'image062.JPG', 'image063.JPG', 'image064.JPG'},\n",
       " 12: {'image066.JPG', 'image067.JPG', 'image068.JPG', 'image069.JPG'},\n",
       " 13: {'image071.JPG', 'image072.JPG', 'image073.JPG', 'image074.JPG'},\n",
       " 14: {'image076.JPG', 'image077.JPG', 'image078.JPG', 'image079.JPG'},\n",
       " 15: {'image081.JPG', 'image082.JPG', 'image083.JPG', 'image084.JPG'},\n",
       " 16: {'image086.JPG', 'image087.JPG', 'image088.JPG', 'image089.JPG'},\n",
       " 17: {'image091.JPG', 'image092.JPG', 'image093.JPG', 'image094.JPG'},\n",
       " 18: {'image096.JPG', 'image097.JPG', 'image098.JPG', 'image099.JPG'},\n",
       " 19: {'image101.JPG', 'image102.JPG', 'image103.JPG', 'image104.JPG'},\n",
       " 20: {'image106.JPG', 'image107.JPG', 'image108.JPG', 'image109.JPG'},\n",
       " 21: {'image111.JPG', 'image112.JPG', 'image113.JPG', 'image114.JPG'},\n",
       " 22: {'image116.JPG', 'image117.JPG', 'image118.JPG', 'image119.JPG'},\n",
       " 23: {'image121.JPG', 'image122.JPG', 'image123.JPG', 'image124.JPG'},\n",
       " 24: {'image126.JPG', 'image127.JPG', 'image128.JPG', 'image129.JPG'},\n",
       " 25: {'image131.JPG', 'image132.JPG', 'image133.JPG', 'image134.JPG'},\n",
       " 26: {'image136.JPG', 'image137.JPG', 'image138.JPG', 'image139.JPG'},\n",
       " 27: {'image141.JPG', 'image142.JPG', 'image143.JPG', 'image144.JPG'},\n",
       " 28: {'image151.JPG', 'image152.JPG', 'image153.JPG', 'image154.JPG'},\n",
       " 29: {'image156.JPG', 'image157.JPG', 'image158.JPG', 'image159.JPG'},\n",
       " 30: {'image161.JPG', 'image162.JPG', 'image163.JPG', 'image164.JPG'},\n",
       " 31: {'image166.JPG', 'image167.JPG', 'image168.JPG', 'image169.JPG'},\n",
       " 32: {'image171.JPG', 'image172.JPG', 'image173.JPG', 'image174.JPG'},\n",
       " 33: {'image176.JPG', 'image177.JPG', 'image178.JPG', 'image179.JPG'},\n",
       " 34: {'image181.JPG', 'image182.JPG', 'image183.JPG', 'image184.JPG'},\n",
       " 35: {'image186.JPG', 'image187.JPG', 'image188.JPG', 'image189.JPG'},\n",
       " 36: {'image191.JPG', 'image192.JPG', 'image193.JPG', 'image194.JPG'},\n",
       " 37: {'image196.JPG', 'image197.JPG', 'image198.JPG', 'image199.JPG'},\n",
       " 38: {'image201.JPG', 'image202.JPG', 'image203.JPG', 'image204.JPG'},\n",
       " 39: {'image206.JPG', 'image207.JPG', 'image208.JPG', 'image209.JPG'},\n",
       " 40: {'image211.JPG', 'image212.JPG', 'image213.JPG', 'image214.JPG'},\n",
       " 41: {'image217.JPG', 'image218.JPG', 'image219.JPG', 'image220.JPG'},\n",
       " 42: {'image222.JPG', 'image223.JPG', 'image224.JPG', 'image225.JPG'},\n",
       " 43: {'image227.JPG', 'image228.JPG', 'image229.JPG', 'image230.JPG'},\n",
       " 44: {'image232.JPG', 'image233.JPG', 'image234.JPG', 'image235.JPG'},\n",
       " 45: {'image237.JPG', 'image238.JPG', 'image239.JPG', 'image240.JPG'},\n",
       " 46: {'image242.JPG', 'image243.JPG', 'image244.JPG', 'image245.JPG'},\n",
       " 47: {'image247.JPG', 'image248.JPG', 'image249.JPG', 'image250.JPG'},\n",
       " 48: {'image257.JPG', 'image258.JPG', 'image259.JPG', 'image260.JPG'},\n",
       " 49: {'image262.JPG', 'image263.JPG', 'image264.JPG', 'image265.JPG'}}"
      ]
     },
     "execution_count": 2,
     "metadata": {},
     "output_type": "execute_result"
    }
   ],
   "source": [
    "cid_filename = dict()\n",
    "for k, v in zip(df['class'].astype('int8'), df['name']):\n",
    "    if k not in cid_filename:\n",
    "        cid_filename[k] = set()\n",
    "    cid_filename[k].add(v)\n",
    "cid_filename"
   ]
  },
  {
   "cell_type": "code",
   "execution_count": 3,
   "metadata": {
    "collapsed": false
   },
   "outputs": [
    {
     "data": {
      "text/plain": [
       "[((16, 37), 326),\n",
       " ((2, 39), 235),\n",
       " ((11, 46), 230),\n",
       " ((28, 31), 209),\n",
       " ((23, 8), 202),\n",
       " ((39, 37), 202),\n",
       " ((23, 36), 201),\n",
       " ((37, 16), 197),\n",
       " ((33, 46), 191),\n",
       " ((22, 38), 184),\n",
       " ((40, 16), 166),\n",
       " ((41, 16), 122),\n",
       " ((37, 39), 121),\n",
       " ((2, 4), 121),\n",
       " ((23, 25), 118),\n",
       " ((2, 21), 111),\n",
       " ((39, 31), 111),\n",
       " ((16, 24), 95),\n",
       " ((2, 28), 87),\n",
       " ((40, 24), 84)]"
      ]
     },
     "execution_count": 3,
     "metadata": {},
     "output_type": "execute_result"
    }
   ],
   "source": [
    "import numpy as np\n",
    "from collections import Counter\n",
    "pair_counts = Counter()\n",
    "with open('sift_incorrect_log.txt', mode='r') as h:\n",
    "    for line in h:\n",
    "        if line == '[] -> []':\n",
    "            continue\n",
    "        [correct, incorrect] = line.split(' -> ')\n",
    "        correct = np.fromstring(correct[1:-1], dtype=np.uint8, sep=' ')\n",
    "        incorrect = np.fromstring(incorrect[1:-1], dtype=np.uint8, sep=' ')\n",
    "        pair_counts.update(zip(correct, incorrect))\n",
    "pair_counts.most_common(20)  # 20 most common errors and their counts"
   ]
  },
  {
   "cell_type": "code",
   "execution_count": 4,
   "metadata": {
    "collapsed": false
   },
   "outputs": [
    {
     "data": {
      "image/png": "[encoded data removed]",
      "text/plain": [
       "<matplotlib.figure.Figure at 0x10df3c550>"
      ]
     },
     "metadata": {},
     "output_type": "display_data"
    }
   ],
   "source": [
    "import matplotlib.pyplot as plt\n",
    "%matplotlib inline\n",
    "pairs, counts = zip(*pair_counts.most_common())\n",
    "fig = plt.figure(figsize=(14, 7))\n",
    "ax = fig.add_subplot(111)\n",
    "ax.bar(np.arange(len(counts)), counts, color=\"green\", alpha=0.75)\n",
    "ax.grid()"
   ]
  },
  {
   "cell_type": "code",
   "execution_count": 5,
   "metadata": {
    "collapsed": false
   },
   "outputs": [
    {
     "data": {
      "text/plain": [
       "[(2, 821),\n",
       " (23, 571),\n",
       " (16, 562),\n",
       " (39, 487),\n",
       " (37, 318),\n",
       " (33, 277),\n",
       " (11, 272),\n",
       " (40, 250),\n",
       " (28, 209),\n",
       " (22, 196),\n",
       " (41, 152),\n",
       " (0, 3)]"
      ]
     },
     "execution_count": 5,
     "metadata": {},
     "output_type": "execute_result"
    }
   ],
   "source": [
    "from_counts = dict()\n",
    "for k, v in zip(zip(*pairs)[0], counts):\n",
    "    if k not in from_counts:\n",
    "        from_counts[k] = 0\n",
    "    from_counts[k] += v\n",
    "sorted(from_counts.items(), key=lambda x: x[1], reverse=True)"
   ]
  },
  {
   "cell_type": "code",
   "execution_count": null,
   "metadata": {
    "collapsed": true
   },
   "outputs": [],
   "source": []
  }
 ],
 "metadata": {
  "kernelspec": {
   "display_name": "Python 2",
   "language": "python",
   "name": "python2"
  },
  "language_info": {
   "codemirror_mode": {
    "name": "ipython",
    "version": 2
   },
   "file_extension": ".py",
   "mimetype": "text/x-python",
   "name": "python",
   "nbconvert_exporter": "python",
   "pygments_lexer": "ipython2",
   "version": "2.7.6"
  }
 },
 "nbformat": 4,
 "nbformat_minor": 0
}
