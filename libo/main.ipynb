{
 "cells": [
  {
   "cell_type": "code",
   "execution_count": 1,
   "metadata": {},
   "outputs": [],
   "source": [
    "# Python 2\n",
    "import cv2\n",
    "import numpy as np\n",
    "import pandas as pd\n",
    "import pickle\n",
    "import random\n",
    "from __future__ import print_function\n",
    "from os import listdir\n",
    "from os.path import isfile, join\n",
    "from scipy.spatial.distance import cosine as cos_dist\n",
    "from scipy.spatial.distance import euclidean as euclid_dist\n",
    "from sklearn.neighbors import KNeighborsClassifier as kNN"
   ]
  },
  {
   "cell_type": "code",
   "execution_count": 2,
   "metadata": {},
   "outputs": [],
   "source": [
    "def init_df(img_dir, num_sift_kp):\n",
    "    df = pd.DataFrame(filter(lambda x: \".JPG\" in x, listdir(img_dir)), columns=[\"name\"])\n",
    "    df[\"class\"] = np.repeat(np.linspace(0, 49, num=50), 4)\n",
    "    df[\"class\"] = df[\"class\"].astype(\"category\")\n",
    "    key_points, kp_descriptors = list(), list()\n",
    "    df_name = list(df[\"name\"])\n",
    "    sift = cv2.SIFT(nfeatures=num_sift_kp)  # each image may produce a few more sift features\n",
    "    for i in range(0, 200):\n",
    "        progress = int(i / 200.0 * 1000) / 10.0\n",
    "        print(\"{} {}%\".format(df_name[i], progress), end=\"\\r\")\n",
    "        img = cv2.imread(join(img_dir, df_name[i]))\n",
    "        img = cv2.cvtColor(img, cv2.COLOR_BGR2GRAY)\n",
    "        kp, des = sift.detectAndCompute(img, None)\n",
    "        if len(kp) > num_sift_kp:\n",
    "            kp = kp[:num_sift_kp]\n",
    "            des = des[:num_sift_kp]\n",
    "        key_points.append(map(lambda x: {\"pt\": x.pt, \"angle\": x.angle, \"size\": x.size,\n",
    "                                         \"octave\": x.octave, \"response\": x.response}, kp))\n",
    "        kp_descriptors.append(des.astype(np.uint16))\n",
    "    df[\"sift_key_points\"] = key_points\n",
    "    df[\"sift_kp_descriptors\"] = kp_descriptors\n",
    "    return df"
   ]
  },
  {
   "cell_type": "code",
   "execution_count": 3,
   "metadata": {},
   "outputs": [
    {
     "name": "stdout",
     "output_type": "stream",
     "text": [
      "(200, 4)\n",
      "name                     object\n",
      "class                  category\n",
      "sift_key_points          object\n",
      "sift_kp_descriptors      object\n",
      "dtype: object\n",
      "           name class                                    sift_key_points  \\\n",
      "0  image001.JPG     0  [{u'pt': (124.926483154, 144.085632324), u'ang...   \n",
      "1  image002.JPG     0  [{u'pt': (156.000778198, 182.117752075), u'ang...   \n",
      "2  image003.JPG     0  [{u'pt': (112.154243469, 122.479042053), u'ang...   \n",
      "3  image004.JPG     0  [{u'pt': (191.072982788, 121.957305908), u'ang...   \n",
      "4  image006.JPG     1  [{u'pt': (112.855133057, 91.5557556152), u'ang...   \n",
      "\n",
      "                                 sift_kp_descriptors  \n",
      "0  [[3, 121, 65, 3, 7, 3, 5, 3, 4, 41, 54, 39, 12...  \n",
      "1  [[7, 19, 8, 1, 1, 0, 16, 16, 6, 16, 20, 11, 1,...  \n",
      "2  [[138, 2, 0, 0, 55, 7, 0, 3, 53, 10, 0, 0, 142...  \n",
      "3  [[10, 42, 7, 2, 84, 81, 6, 0, 74, 109, 3, 2, 8...  \n",
      "4  [[100, 7, 0, 0, 22, 35, 44, 53, 61, 5, 0, 0, 1...  \n"
     ]
    }
   ],
   "source": [
    "df_cache = \"df.pickle\"\n",
    "if isfile(df_cache):\n",
    "    with open(df_cache, mode=\"rb\") as h:\n",
    "        df = pickle.load(h)\n",
    "else:\n",
    "    df = init_df(\"data\", num_sift_kp=20)\n",
    "    with open(df_cache, mode=\"wb\") as h:\n",
    "        pickle.dump(df, h, protocol=2)\n",
    "print(df.shape)\n",
    "print(df.dtypes)\n",
    "print(df.head())"
   ]
  },
  {
   "cell_type": "code",
   "execution_count": 4,
   "metadata": {},
   "outputs": [
    {
     "name": "stdout",
     "output_type": "stream",
     "text": [
      "(200, 14)\n",
      "           name class                                    sift_key_points  \\\n",
      "0  image001.JPG     0  [{u'pt': (124.926483154, 144.085632324), u'ang...   \n",
      "1  image002.JPG     0  [{u'pt': (156.000778198, 182.117752075), u'ang...   \n",
      "2  image003.JPG     0  [{u'pt': (112.154243469, 122.479042053), u'ang...   \n",
      "3  image004.JPG     0  [{u'pt': (191.072982788, 121.957305908), u'ang...   \n",
      "4  image006.JPG     1  [{u'pt': (112.855133057, 91.5557556152), u'ang...   \n",
      "\n",
      "                                 sift_kp_descriptors split_0 split_1 split_2  \\\n",
      "0  [[3, 121, 65, 3, 7, 3, 5, 3, 4, 41, 54, 39, 12...   train    test    test   \n",
      "1  [[7, 19, 8, 1, 1, 0, 16, 16, 6, 16, 20, 11, 1,...   train   train   train   \n",
      "2  [[138, 2, 0, 0, 55, 7, 0, 3, 53, 10, 0, 0, 142...   train   train   train   \n",
      "3  [[10, 42, 7, 2, 84, 81, 6, 0, 74, 109, 3, 2, 8...    test   train   train   \n",
      "4  [[100, 7, 0, 0, 22, 35, 44, 53, 61, 5, 0, 0, 1...   train    test   train   \n",
      "\n",
      "  split_3 split_4 split_5 split_6 split_7 split_8 split_9  \n",
      "0   train   train   train   train   train   train   train  \n",
      "1   train    test   train    test   train   train   train  \n",
      "2    test   train   train   train   train    test   train  \n",
      "3   train   train    test   train    test   train    test  \n",
      "4   train   train   train   train    test   train    test  \n"
     ]
    }
   ],
   "source": [
    "def new_split():\n",
    "    split = [\"train\"] * 200\n",
    "    for i in range(0, 50):\n",
    "        split[i * 4 + random.randint(0, 3)] = \"test\"\n",
    "    return split\n",
    "for i in range(0, 10):\n",
    "    split_name = \"split_\" + str(i)\n",
    "    df[split_name] = new_split()\n",
    "    df[split_name] = df[split_name].astype(\"category\")\n",
    "print(df.shape)\n",
    "print(df.head())"
   ]
  },
  {
   "cell_type": "code",
   "execution_count": 5,
   "metadata": {},
   "outputs": [],
   "source": [
    "class sNN:\n",
    "    # C := # of classes; N := # of data point per training class; D := dimension of data point\n",
    "    def __init__(self, distance_func):\n",
    "        self.dist_func = distance_func  # (R^D, R^D) -> R\n",
    "\n",
    "    def fit(self, train_x):  # C * N * D\n",
    "        self.train_x = train_x\n",
    "        return self\n",
    "\n",
    "    def predict(self, test_x):  # R^D\n",
    "        C = train_x.shape[0]\n",
    "        dists = np.zeros(C, dtype=np.float32)\n",
    "        for i in range(0, C):\n",
    "            dists[i] = min([self.dist_func(test_x, x) for x in self.train_x[i]])\n",
    "        return dists"
   ]
  },
  {
   "cell_type": "code",
   "execution_count": 6,
   "metadata": {},
   "outputs": [],
   "source": [
    "def get_training_set(split_id):\n",
    "    df_train = df[df[\"split_\" + str(i)] == \"train\"]\n",
    "    df_train_sift_des = list(df_train[\"sift_kp_descriptors\"])\n",
    "    return np.array([np.vstack(df_train_sift_des[j*3:j*3+3]) for j in range(0, 50)])  # 50 * 60 * 128"
   ]
  },
  {
   "cell_type": "code",
   "execution_count": 7,
   "metadata": {},
   "outputs": [],
   "source": [
    "def test(classifier, split_id):\n",
    "    df_test = df[df[\"split_\" + str(split_id)] == \"test\"]\n",
    "    test_x = np.array(df_test[\"sift_kp_descriptors\"])  # 50 * 20 * 128\n",
    "    predict_y = np.empty(50, dtype=np.uint8)\n",
    "    for i in range(0, 50):\n",
    "        dists = np.zeros(50, dtype=np.float32)\n",
    "        for j in range(0, 20):\n",
    "            dists += classifier.predict(test_x[i][j])\n",
    "            progress = (float(i) * 20 + j) / 10\n",
    "            print(\"split_{} {}%\".format(split_id, progress), end=\"\\r\")\n",
    "        predict_y[i] = np.argmin(dists)\n",
    "    return predict_y"
   ]
  },
  {
   "cell_type": "code",
   "execution_count": 8,
   "metadata": {},
   "outputs": [
    {
     "name": "stdout",
     "output_type": "stream",
     "text": [
      "[45 46 44 46 43 46 45 46 47 47]\n",
      "mean_accuracy=0.909999966621, sigma=0.0240831915289\n"
     ]
    }
   ],
   "source": [
    "classifier = sNN(distance_func=euclid_dist)\n",
    "tp_count = np.empty(10, dtype=np.uint8)\n",
    "for i in range(0, 10):\n",
    "    train_x = get_training_set(i)\n",
    "    predict_y = test(classifier.fit(train_x), i)\n",
    "    tp_count[i] = sum(np.linspace(0, 49, num=50) == predict_y)\n",
    "print(tp_count)\n",
    "accuracy = tp_count.astype(np.float32) / 50\n",
    "print(\"mean_accuracy={}, sigma={}\".format(np.mean(accuracy), np.std(accuracy)))"
   ]
  },
  {
   "cell_type": "code",
   "execution_count": 9,
   "metadata": {},
   "outputs": [],
   "source": [
    "# Naive kNN\n",
    "def get_training_set(split_id):\n",
    "    df_train = df[df[\"split_\" + str(split_id)] == \"train\"]\n",
    "    df_train_sift_des = list(df_train[\"sift_kp_descriptors\"])\n",
    "    df_train_class = list(df_train[\"class\"])\n",
    "    train_x, train_y = list(), list()\n",
    "    for i in range(0, 150):\n",
    "        for d in df_train_sift_des[i]:\n",
    "            train_x.append(d)\n",
    "            train_y.append(df_train_class[i])\n",
    "    return train_x, train_y"
   ]
  },
  {
   "cell_type": "code",
   "execution_count": 10,
   "metadata": {},
   "outputs": [],
   "source": [
    "# Naive kNN\n",
    "def test(classifier, split_id):\n",
    "    df_test = df[df[\"split_\" + str(split_id)] == \"test\"]\n",
    "    df_test_sift_des = list(df_test[\"sift_kp_descriptors\"])\n",
    "    df_test_name = list(df_test[\"name\"])\n",
    "    predict = np.zeros(50, dtype=np.uint8)\n",
    "    for i in range(0, 50):\n",
    "        progress = int(i / 50.0 * 1000) / 10.0\n",
    "        print(\"split_{} {} {}%\".format(split_id, df_test_name[i], progress), end=\"\\r\")\n",
    "        vote = np.zeros(50, dtype=np.uint16)\n",
    "        for d in df_test_sift_des[i]:\n",
    "            vote[classifier.predict(d)[0]] += 1\n",
    "        predict[i] = vote.argmax()\n",
    "    return predict"
   ]
  },
  {
   "cell_type": "code",
   "execution_count": 11,
   "metadata": {},
   "outputs": [
    {
     "name": "stdout",
     "output_type": "stream",
     "text": [
      "[42 43 39 40 40 44 43 42 43 40]\n",
      "mean_accuracy=0.832000076771, sigma=0.0324961580336\n"
     ]
    }
   ],
   "source": [
    "# Naive kNN\n",
    "classifier = kNN(n_neighbors=5, weights=\"distance\", metric=cos_dist)\n",
    "tp_count = np.zeros(10, dtype=np.uint8)\n",
    "for i in range(0, 10):\n",
    "    train_x, train_y = get_training_set(i)\n",
    "    predict_y = test(classifier.fit(train_x, train_y), i)\n",
    "    tp_count[i] = sum(np.linspace(0, 49, num=50) == predict_y)\n",
    "print(tp_count)\n",
    "accuracy = tp_count.astype(np.float32) / 50\n",
    "print(\"mean_accuracy={}, sigma={}\".format(np.mean(accuracy), np.std(accuracy)))"
   ]
  },
  {
   "cell_type": "code",
   "metadata": {},
   "outputs": [],
   "source": [
    ""
   ]
  }
 ],
 "metadata": {
  "kernelspec": {
   "display_name": "Python 2",
   "language": "python",
   "name": "python2"
  },
  "language_info": {
   "codemirror_mode": {
    "name": "ipython",
    "version": 2.0
   },
   "file_extension": ".py",
   "mimetype": "text/x-python",
   "name": "python",
   "nbconvert_exporter": "python",
   "pygments_lexer": "ipython2",
   "version": "2.7.6"
  }
 },
 "nbformat": 4,
 "nbformat_minor": 0
}