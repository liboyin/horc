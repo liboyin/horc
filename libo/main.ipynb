{
 "cells": [
  {
   "cell_type": "code",
   "execution_count": 1,
   "metadata": {
    "collapsed": false,
    "scrolled": true
   },
   "outputs": [
    {
     "name": "stdout",
     "output_type": "stream",
     "text": [
      "num_sift_kp=25, num_split=10\n"
     ]
    }
   ],
   "source": [
    "import random\n",
    "from data import get_df, num_sift_kp\n",
    "def new_split():\n",
    "    split = [\"train\"] * 200\n",
    "    for i in range(0, 50):\n",
    "        split[i * 4 + random.randint(0, 3)] = \"test\"\n",
    "    return split\n",
    "df = get_df()\n",
    "num_split = 10\n",
    "print(\"num_sift_kp={}, num_split={}\".format(num_sift_kp, num_split))\n",
    "for i in range(0, num_split):\n",
    "    split_name = \"split_\" + str(i)\n",
    "    df[split_name] = new_split()\n",
    "    df[split_name] = df[split_name].astype(\"category\")\n",
    "# print(df.shape)\n",
    "# print(df.dtypes)\n",
    "# print(df.head())"
   ]
  },
  {
   "cell_type": "code",
   "execution_count": 2,
   "metadata": {
    "collapsed": false,
    "scrolled": false
   },
   "outputs": [
    {
     "name": "stdout",
     "output_type": "stream",
     "text": [
      "[16 37] -> [33 39]\n",
      "[ 2 11] -> [26  2]\n",
      "[] -> []\n",
      "[ 8 16] -> [ 4 33]\n",
      "[ 8 26] -> [16 10]\n",
      "[16 37] -> [33 39]\n",
      "[39] -> [37]\n",
      "[] -> []\n",
      "[ 2 16 30 39 49] -> [21 33 41 31 46]\n",
      "[ 2 39 49] -> [26 37 46]\n",
      "[48 48 50 48 48 48 49 50 45 47]\n",
      "mean_accuracy=0.962000012398, sigma=0.0274954624474\n"
     ]
    }
   ],
   "source": [
    "from __future__ import print_function # Python 2\n",
    "import numpy as np\n",
    "import lib\n",
    "from scipy.spatial.distance import cdist\n",
    "sift_classifier = lib.SoftNearestClassClassifier(cdist)  # Euclidean distance by default\n",
    "hue_classifier = lib.SoftNearestNeighbourClassifier(lambda x1, x2: np.minimum(x1, x2).sum())  # histogram intersection\n",
    "correct_counts = np.empty(num_split, dtype=np.uint8)  # 1 * @num_split vector for # of true positives in each split\n",
    "for i in range(0, num_split):\n",
    "    sift_classifier.fit(lib.get_train_sift(df, i))\n",
    "    hue_classifier.fit(lib.get_train_hue(df, i))\n",
    "    predict_y = lib.test_sift_hue(df, i, sift_classifier, hue_classifier)\n",
    "    correctness = np.arange(50) == predict_y\n",
    "    incorrect_indices = np.nonzero(np.logical_not(correctness))[0]\n",
    "    print(\"{} -> {}\".format(incorrect_indices, predict_y[incorrect_indices]))\n",
    "    correct_counts[i] = sum(correctness)\n",
    "print(correct_counts)\n",
    "accuracy = correct_counts.astype(np.float32) / 50\n",
    "print(\"mean_accuracy={}, sigma={}\".format(np.mean(accuracy), np.std(accuracy)))"
   ]
  },
  {
   "cell_type": "code",
   "execution_count": null,
   "metadata": {
    "collapsed": true,
    "scrolled": true
   },
   "outputs": [],
   "source": []
  }
 ],
 "metadata": {
  "kernelspec": {
   "display_name": "Python 2",
   "language": "python",
   "name": "python2"
  },
  "language_info": {
   "codemirror_mode": {
    "name": "ipython",
    "version": 2
   },
   "file_extension": ".py",
   "mimetype": "text/x-python",
   "name": "python",
   "nbconvert_exporter": "python",
   "pygments_lexer": "ipython2",
   "version": "2.7.6"
  }
 },
 "nbformat": 4,
 "nbformat_minor": 0
}
