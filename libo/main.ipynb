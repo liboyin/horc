{
 "cells": [
  {
   "cell_type": "code",
   "execution_count": 1,
   "metadata": {
    "collapsed": true
   },
   "outputs": [],
   "source": [
    "# Python 2\n",
    "from __future__ import print_function\n",
    "import numpy as np"
   ]
  },
  {
   "cell_type": "code",
   "execution_count": 2,
   "metadata": {
    "collapsed": false
   },
   "outputs": [
    {
     "name": "stdout",
     "output_type": "stream",
     "text": [
      "num_sift_kp=25\n",
      "(200, 14)\n",
      "name                     object\n",
      "class                  category\n",
      "sift_key_points          object\n",
      "sift_kp_descriptors      object\n",
      "split_0                category\n",
      "split_1                category\n",
      "split_2                category\n",
      "split_3                category\n",
      "split_4                category\n",
      "split_5                category\n",
      "split_6                category\n",
      "split_7                category\n",
      "split_8                category\n",
      "split_9                category\n",
      "dtype: object\n",
      "           name class                                    sift_key_points  \\\n",
      "0  image001.JPG     0  [{u'response': 0.05662516132, u'angle': 70.008...   \n",
      "1  image002.JPG     0  [{u'response': 0.0773346424103, u'angle': 84.5...   \n",
      "2  image003.JPG     0  [{u'response': 0.086534768343, u'angle': 91.15...   \n",
      "3  image004.JPG     0  [{u'response': 0.059586878866, u'angle': 279.4...   \n",
      "4  image006.JPG     1  [{u'response': 0.0622775293887, u'angle': 269....   \n",
      "\n",
      "                                 sift_kp_descriptors split_0 split_1 split_2  \\\n",
      "0  [[20, 59, 25, 58, 16, 2, 2, 1, 76, 75, 47, 47,...   train    test   train   \n",
      "1  [[7, 19, 8, 1, 1, 0, 16, 16, 6, 16, 20, 11, 1,...   train   train   train   \n",
      "2  [[138, 2, 0, 0, 55, 7, 0, 3, 53, 10, 0, 0, 142...    test   train   train   \n",
      "3  [[10, 42, 7, 2, 84, 81, 6, 0, 74, 109, 3, 2, 8...   train   train    test   \n",
      "4  [[100, 7, 0, 0, 22, 35, 44, 53, 61, 5, 0, 0, 1...   train    test    test   \n",
      "\n",
      "  split_3 split_4 split_5 split_6 split_7 split_8 split_9  \n",
      "0   train   train   train   train    test    test    test  \n",
      "1    test   train    test   train   train   train   train  \n",
      "2   train    test   train    test   train   train   train  \n",
      "3   train   train   train   train   train   train   train  \n",
      "4   train   train   train   train   train   train    test  \n"
     ]
    }
   ],
   "source": [
    "import random\n",
    "from data import get_df, num_sift_kp\n",
    "def new_split():\n",
    "    split = [\"train\"] * 200\n",
    "    for i in range(0, 50):\n",
    "        split[i * 4 + random.randint(0, 3)] = \"test\"\n",
    "    return split\n",
    "df = get_df()\n",
    "print(\"num_sift_kp=\" + str(num_sift_kp))\n",
    "num_split = 10\n",
    "for i in range(0, num_split):\n",
    "    split_name = \"split_\" + str(i)\n",
    "    df[split_name] = new_split()\n",
    "    df[split_name] = df[split_name].astype(\"category\")\n",
    "print(df.shape)\n",
    "print(df.dtypes)\n",
    "print(df.head())"
   ]
  },
  {
   "cell_type": "code",
   "execution_count": 3,
   "metadata": {
    "collapsed": false
   },
   "outputs": [
    {
     "name": "stdout",
     "output_type": "stream",
     "text": [
      "[47 47 48 47 46 47 45 46 46 50]\n",
      "mean_accuracy=0.938000023365, sigma=0.0259999986738\n"
     ]
    }
   ],
   "source": [
    "# sNN\n",
    "import as_clusters as ac\n",
    "from scipy.spatial.distance import cdist\n",
    "classifier = ac.SetNearestNeighbourClassifier(dist_kernel=cdist)  # Euclidean distance by default\n",
    "tp_count = np.empty(num_split, dtype=np.uint8)  # 1 * @num_split vector for # of true positives in each split\n",
    "for i in range(0, num_split):\n",
    "    train_x = ac.get_training_set(df, i)  # train_y is not required for training data as clusters\n",
    "    classifier.fit(train_x)\n",
    "    predict_y = ac.test(df, i, classifier)\n",
    "    tp_count[i] = sum(np.linspace(0, 49) == predict_y)\n",
    "print(tp_count)\n",
    "accuracy = tp_count.astype(np.float32) / 50\n",
    "print(\"mean_accuracy={}, sigma={}\".format(np.mean(accuracy), np.std(accuracy)))"
   ]
  },
  {
   "cell_type": "code",
   "execution_count": null,
   "metadata": {
    "collapsed": true
   },
   "outputs": [],
   "source": []
  }
 ],
 "metadata": {
  "kernelspec": {
   "display_name": "Python 2",
   "language": "python",
   "name": "python2"
  },
  "language_info": {
   "codemirror_mode": {
    "name": "ipython",
    "version": 2
   },
   "file_extension": ".py",
   "mimetype": "text/x-python",
   "name": "python",
   "nbconvert_exporter": "python",
   "pygments_lexer": "ipython2",
   "version": "2.7.6"
  }
 },
 "nbformat": 4,
 "nbformat_minor": 0
}
