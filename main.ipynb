{
 "cells": [
  {
   "cell_type": "markdown",
   "metadata": {},
   "source": [
    "We call the training images supporting shots, and extracted SIFT feature points from them supporting points. These supporting points are in a fixed 128-dimensional space. Each feature point extracted from the test image is compared with all supporting points with a metric function, balanced by the difference in scale \\(\\sigma\\). The K supporting points that are closest to the feature point extracted from the test image have the chance to vote to the class they belong to."
   ]
  },
  {
   "cell_type": "code",
   "execution_count": 1,
   "metadata": {
    "collapsed": false
   },
   "outputs": [],
   "source": [
    "# Python 2\n",
    "import cv2\n",
    "import numpy as np\n",
    "import pandas as pd\n",
    "import random\n",
    "from __future__ import print_function\n",
    "from os import listdir\n",
    "from os.path import join\n",
    "from scipy.spatial.distance import cosine"
   ]
  },
  {
   "cell_type": "code",
   "execution_count": 2,
   "metadata": {
    "collapsed": false
   },
   "outputs": [
    {
     "name": "stdout",
     "output_type": "stream",
     "text": [
      "name    object\n",
      "dtype: object\n",
      "           name\n",
      "0  image001.JPG\n",
      "1  image002.JPG\n",
      "2  image003.JPG\n",
      "3  image004.JPG\n",
      "4  image006.JPG\n"
     ]
    }
   ],
   "source": [
    "img_dir = \"data\"\n",
    "df = pd.DataFrame(filter(lambda x: \".JPG\" in x, listdir(img_dir)), columns=[\"name\"])\n",
    "print(df.dtypes)\n",
    "print(df.head())"
   ]
  },
  {
   "cell_type": "code",
   "execution_count": 3,
   "metadata": {
    "collapsed": false
   },
   "outputs": [
    {
     "name": "stdout",
     "output_type": "stream",
     "text": [
      "name       object\n",
      "class    category\n",
      "dtype: object\n",
      "           name class\n",
      "0  image001.JPG     0\n",
      "1  image002.JPG     0\n",
      "2  image003.JPG     0\n",
      "3  image004.JPG     0\n",
      "4  image006.JPG     1\n"
     ]
    }
   ],
   "source": [
    "df[\"class\"] = np.repeat(np.linspace(0, 49, num=50), 4)\n",
    "df[\"class\"] = df[\"class\"].astype(\"category\")\n",
    "print(df.dtypes)\n",
    "print(df.head())"
   ]
  },
  {
   "cell_type": "code",
   "execution_count": 4,
   "metadata": {
    "collapsed": false
   },
   "outputs": [
    {
     "name": "stdout",
     "output_type": "stream",
     "text": [
      "name       object\n",
      "class    category\n",
      "split    category\n",
      "dtype: object\n",
      "           name class  split\n",
      "0  image001.JPG     0  train\n",
      "1  image002.JPG     0  train\n",
      "2  image003.JPG     0  train\n",
      "3  image004.JPG     0   test\n",
      "4  image006.JPG     1  train\n"
     ]
    }
   ],
   "source": [
    "split = [\"train\"] * 200\n",
    "for i in range(0, 50):\n",
    "    split[i * 4 + random.randint(0, 3)] = \"test\"\n",
    "df[\"split\"] = split\n",
    "df[\"split\"] = df[\"split\"].astype(\"category\")\n",
    "print(df.dtypes)\n",
    "print(df.head())"
   ]
  },
  {
   "cell_type": "code",
   "execution_count": 5,
   "metadata": {
    "collapsed": false
   },
   "outputs": [
    {
     "name": "stdout",
     "output_type": "stream",
     "text": []
    }
   ],
   "source": [
    "df_train = df[df[\"split\"] == \"train\"]\n",
    "df_train_name = list(df_train[\"name\"])  # TODO: series to sequencially numpy array?\n",
    "df_train_class = list(df_train[\"class\"])\n",
    "sift = cv2.SIFT(nfeatures=20)\n",
    "support = list()\n",
    "for i in range(0, 150):\n",
    "    progress = int(i / 150.0 * 1000) / 10.0\n",
    "    print(\"{}: {}%\".format(df_train_name[i], progress), end=\"\\r\")\n",
    "    img = cv2.imread(join(img_dir, df_train_name[i]))\n",
    "    img = cv2.cvtColor(img, cv2.COLOR_BGR2GRAY)\n",
    "    kp, des = sift.detectAndCompute(img, None)\n",
    "    for d in des:\n",
    "        support.append((tuple(d), df_train_class[i]))"
   ]
  },
  {
   "cell_type": "code",
   "execution_count": 6,
   "metadata": {
    "collapsed": false
   },
   "outputs": [
    {
     "name": "stdout",
     "output_type": "stream",
     "text": []
    }
   ],
   "source": [
    "df_test = df[df[\"split\"] == \"test\"]\n",
    "df_test_name = list(df_test[\"name\"])\n",
    "sift = cv2.SIFT(nfeatures=10)\n",
    "predict = list()\n",
    "for i in range(0, 50):\n",
    "    progress = int(i / 50.0 * 1000) / 10.0\n",
    "    print(\"{}: {}%\".format(df_train_name[i], progress), end=\"\\r\")\n",
    "    img = cv2.imread(join(img_dir, df_test_name[i]))\n",
    "    img = cv2.cvtColor(img, cv2.COLOR_BGR2GRAY)\n",
    "    kp, des = sift.detectAndCompute(img, None)\n",
    "    vote = np.zeros(50, dtype=np.uint16)\n",
    "    for d in des:\n",
    "        top_supports = sorted(support, key=lambda (k, v): cosine(k, d))[0:5]\n",
    "        for (k, v) in top_supports:\n",
    "            vote[int(v)] += 1\n",
    "    predict.append(vote.argmax())"
   ]
  },
  {
   "cell_type": "code",
   "execution_count": 7,
   "metadata": {
    "collapsed": false
   },
   "outputs": [
    {
     "name": "stdout",
     "output_type": "stream",
     "text": [
      "[0, 1, 8, 3, 4, 45, 6, 7, 8, 9, 13, 11, 12, 13, 21, 15, 20, 17, 18, 19, 20, 21, 22, 25, 34, 13, 26, 27, 28, 29, 3, 31, 32, 13, 21, 35, 13, 22, 38, 38, 40, 41, 42, 43, 44, 45, 46, 47, 48, 49]\n",
      "36\n"
     ]
    }
   ],
   "source": [
    "correct = 0\n",
    "for i in range(0, 50):\n",
    "    if predict[i] == i:\n",
    "        correct += 1\n",
    "print(predict)\n",
    "print(correct)"
   ]
  }
 ],
 "metadata": {
  "kernelspec": {
   "display_name": "Python 2",
   "language": "python",
   "name": "python2"
  },
  "language_info": {
   "codemirror_mode": {
    "name": "ipython",
    "version": 2
   },
   "file_extension": ".py",
   "mimetype": "text/x-python",
   "name": "python",
   "nbconvert_exporter": "python",
   "pygments_lexer": "ipython2",
   "version": "2.7.6"
  }
 },
 "nbformat": 4,
 "nbformat_minor": 0
}
