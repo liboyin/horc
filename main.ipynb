{
 "cells": [
  {
   "cell_type": "code",
   "execution_count": 1,
   "metadata": {
    "collapsed": false
   },
   "outputs": [],
   "source": [
    "# Python 2\n",
    "import cv2\n",
    "import numpy as np\n",
    "import pandas as pd\n",
    "import random\n",
    "from __future__ import print_function\n",
    "from os import listdir\n",
    "from os.path import join\n",
    "from scipy.spatial.distance import cosine\n",
    "from sklearn import neighbors"
   ]
  },
  {
   "cell_type": "code",
   "execution_count": 2,
   "metadata": {
    "collapsed": false
   },
   "outputs": [
    {
     "name": "stdout",
     "output_type": "stream",
     "text": [
      "name    object\n",
      "dtype: object\n",
      "           name\n",
      "0  image001.JPG\n",
      "1  image002.JPG\n",
      "2  image003.JPG\n",
      "3  image004.JPG\n",
      "4  image006.JPG\n"
     ]
    }
   ],
   "source": [
    "img_dir = \"data\"\n",
    "df = pd.DataFrame(filter(lambda x: \".JPG\" in x, listdir(img_dir)), columns=[\"name\"])\n",
    "print(df.dtypes)\n",
    "print(df.head())"
   ]
  },
  {
   "cell_type": "code",
   "execution_count": 3,
   "metadata": {
    "collapsed": false
   },
   "outputs": [
    {
     "name": "stdout",
     "output_type": "stream",
     "text": [
      "name       object\n",
      "class    category\n",
      "dtype: object\n",
      "           name class\n",
      "0  image001.JPG     0\n",
      "1  image002.JPG     0\n",
      "2  image003.JPG     0\n",
      "3  image004.JPG     0\n",
      "4  image006.JPG     1\n"
     ]
    }
   ],
   "source": [
    "df[\"class\"] = np.repeat(np.linspace(0, 49, num=50), 4)\n",
    "df[\"class\"] = df[\"class\"].astype(\"category\")\n",
    "print(df.dtypes)\n",
    "print(df.head())"
   ]
  },
  {
   "cell_type": "code",
   "execution_count": 4,
   "metadata": {
    "collapsed": false
   },
   "outputs": [
    {
     "name": "stdout",
     "output_type": "stream",
     "text": [
      "name       object\n",
      "class    category\n",
      "split    category\n",
      "dtype: object\n",
      "           name class  split\n",
      "0  image001.JPG     0  train\n",
      "1  image002.JPG     0  train\n",
      "2  image003.JPG     0   test\n",
      "3  image004.JPG     0  train\n",
      "4  image006.JPG     1   test\n"
     ]
    }
   ],
   "source": [
    "split = [\"train\"] * 200\n",
    "for i in range(0, 50):\n",
    "    split[i * 4 + random.randint(0, 3)] = \"test\"\n",
    "df[\"split\"] = split\n",
    "df[\"split\"] = df[\"split\"].astype(\"category\")\n",
    "print(df.dtypes)\n",
    "print(df.head())"
   ]
  },
  {
   "cell_type": "code",
   "execution_count": 5,
   "metadata": {
    "collapsed": false
   },
   "outputs": [
    {
     "name": "stdout",
     "output_type": "stream",
     "text": []
    }
   ],
   "source": [
    "df_train = df[df[\"split\"] == \"train\"]\n",
    "df_train_name = list(df_train[\"name\"])\n",
    "df_train_class = list(df_train[\"class\"])\n",
    "sift = cv2.SIFT(nfeatures=20)\n",
    "train_x, train_y = list(), list()\n",
    "for i in range(0, 150):\n",
    "    progress = int(i / 150.0 * 1000) / 10.0\n",
    "    print(\"{}: {}%\".format(df_train_name[i], progress), end=\"\\r\")\n",
    "    img = cv2.imread(join(img_dir, df_train_name[i]))\n",
    "    img = cv2.cvtColor(img, cv2.COLOR_BGR2GRAY)\n",
    "    kp, des = sift.detectAndCompute(img, None)\n",
    "    for d in des:\n",
    "        train_x.append(tuple(d.astype(np.int32)))\n",
    "        train_y.append(int(df_train_class[i]))"
   ]
  },
  {
   "cell_type": "code",
   "execution_count": 6,
   "metadata": {
    "collapsed": false
   },
   "outputs": [
    {
     "data": {
      "text/plain": [
       "KNeighborsClassifier(algorithm='auto', leaf_size=30,\n",
       "           metric=<function cosine at 0x110243140>, metric_params=None,\n",
       "           n_neighbors=5, p=2, weights='distance')"
      ]
     },
     "execution_count": 6,
     "metadata": {},
     "output_type": "execute_result"
    }
   ],
   "source": [
    "kNN = neighbors.KNeighborsClassifier(n_neighbors=5, weights=\"distance\", metric=cosine)\n",
    "# scipy.spatial.distance.cosine is much faster than sklearn.metrics.pairwise.cosine_distances\n",
    "kNN.fit(train_x, train_y)"
   ]
  },
  {
   "cell_type": "code",
   "execution_count": 7,
   "metadata": {
    "collapsed": false
   },
   "outputs": [
    {
     "name": "stdout",
     "output_type": "stream",
     "text": []
    }
   ],
   "source": [
    "df_test = df[df[\"split\"] == \"test\"]\n",
    "df_test_name = list(df_test[\"name\"])\n",
    "sift = cv2.SIFT(nfeatures=10)\n",
    "predict = list()\n",
    "for i in range(0, 50):\n",
    "    progress = int(i / 50.0 * 1000) / 10.0\n",
    "    print(\"{}: {}%\".format(df_train_name[i], progress), end=\"\\r\")\n",
    "    img = cv2.imread(join(img_dir, df_test_name[i]))\n",
    "    img = cv2.cvtColor(img, cv2.COLOR_BGR2GRAY)\n",
    "    kp, des = sift.detectAndCompute(img, None)\n",
    "    vote = np.zeros(50, dtype=np.uint16)\n",
    "    for d in des:\n",
    "        vote[kNN.predict(d)[0]] += 1\n",
    "    predict.append(vote.argmax())"
   ]
  },
  {
   "cell_type": "code",
   "execution_count": 8,
   "metadata": {
    "collapsed": false
   },
   "outputs": [
    {
     "name": "stdout",
     "output_type": "stream",
     "text": [
      "[0, 1, 2, 3, 4, 26, 6, 7, 8, 9, 38, 11, 12, 13, 14, 15, 23, 17, 15, 19, 20, 17, 22, 31, 24, 45, 26, 27, 46, 29, 38, 31, 32, 13, 34, 35, 45, 38, 38, 15, 1, 41, 25, 43, 44, 45, 46, 47, 48, 49]\n",
      "35\n"
     ]
    }
   ],
   "source": [
    "correct = 0\n",
    "for i in range(0, 50):\n",
    "    if predict[i] == i:\n",
    "        correct += 1\n",
    "print(predict)\n",
    "print(correct)"
   ]
  },
  {
   "cell_type": "code",
   "execution_count": null,
   "metadata": {
    "collapsed": true
   },
   "outputs": [],
   "source": []
  }
 ],
 "metadata": {
  "kernelspec": {
   "display_name": "Python 2",
   "language": "python",
   "name": "python2"
  },
  "language_info": {
   "codemirror_mode": {
    "name": "ipython",
    "version": 2
   },
   "file_extension": ".py",
   "mimetype": "text/x-python",
   "name": "python",
   "nbconvert_exporter": "python",
   "pygments_lexer": "ipython2",
   "version": "2.7.6"
  }
 },
 "nbformat": 4,
 "nbformat_minor": 0
}
