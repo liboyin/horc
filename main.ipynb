{
 "cells": [
  {
   "cell_type": "code",
   "execution_count": 1,
   "metadata": {
    "collapsed": false
   },
   "outputs": [],
   "source": [
    "# Python 2\n",
    "import cv2\n",
    "import numpy as np\n",
    "import pandas as pd\n",
    "import random\n",
    "from __future__ import print_function\n",
    "from os import listdir\n",
    "from os.path import isfile, join\n",
    "from pandas.io.pickle import read_pickle\n",
    "from scipy.spatial.distance import cosine as cos_dist\n",
    "# from sklearn.ensemble import RandomForestClassifier\n",
    "from sklearn.neighbors import KNeighborsClassifier"
   ]
  },
  {
   "cell_type": "code",
   "execution_count": 2,
   "metadata": {
    "collapsed": false
   },
   "outputs": [],
   "source": [
    "def init_df(img_dir):\n",
    "    df = pd.DataFrame(filter(lambda x: \".JPG\" in x, listdir(img_dir)), columns=[\"name\"])\n",
    "    df[\"class\"] = np.repeat(np.linspace(0, 49, num=50), 4)\n",
    "    df[\"class\"] = df[\"class\"].astype(\"category\")\n",
    "    key_points, kp_descriptors = list(), list()\n",
    "    df_name = list(df[\"name\"])\n",
    "    sift = cv2.SIFT(nfeatures=20)\n",
    "    for i in range(0, 200):\n",
    "        progress = int(i / 200.0 * 1000) / 10.0\n",
    "        print(\"{} {}%\".format(df_name[i], progress), end=\"\\r\")\n",
    "        img = cv2.imread(join(img_dir, df_name[i]))\n",
    "        img = cv2.cvtColor(img, cv2.COLOR_BGR2GRAY)\n",
    "        kp, des = sift.detectAndCompute(img, None)\n",
    "        key_points.append(map(lambda x: {\"pt\": x.pt, \"angle\": x.angle, \"size\": x.size,\n",
    "                                         \"octave\": x.octave, \"response\": x.response}, kp))\n",
    "        kp_descriptors.append(des.astype(np.uint16))\n",
    "    df[\"sift_key_points\"] = key_points\n",
    "    df[\"sift_kp_descriptors\"] = kp_descriptors\n",
    "    return df"
   ]
  },
  {
   "cell_type": "code",
   "execution_count": 3,
   "metadata": {
    "collapsed": false,
    "scrolled": false
   },
   "outputs": [
    {
     "name": "stdout",
     "output_type": "stream",
     "text": [
      "(200, 4)\n",
      "name                     object\n",
      "class                  category\n",
      "sift_key_points          object\n",
      "sift_kp_descriptors      object\n",
      "dtype: object\n",
      "           name class                                    sift_key_points  \\\n",
      "0  image001.JPG     0  [{u'response': 0.0780883580446, u'angle': 296....   \n",
      "1  image002.JPG     0  [{u'response': 0.0773346424103, u'angle': 84.5...   \n",
      "2  image003.JPG     0  [{u'response': 0.086534768343, u'angle': 91.15...   \n",
      "3  image004.JPG     0  [{u'response': 0.059586878866, u'angle': 279.4...   \n",
      "4  image006.JPG     1  [{u'response': 0.0622775293887, u'angle': 269....   \n",
      "\n",
      "                                 sift_kp_descriptors  \n",
      "0  [[3, 121, 65, 3, 7, 3, 5, 3, 4, 41, 54, 39, 12...  \n",
      "1  [[7, 19, 8, 1, 1, 0, 16, 16, 6, 16, 20, 11, 1,...  \n",
      "2  [[138, 2, 0, 0, 55, 7, 0, 3, 53, 10, 0, 0, 142...  \n",
      "3  [[10, 42, 7, 2, 84, 81, 6, 0, 74, 109, 3, 2, 8...  \n",
      "4  [[100, 7, 0, 0, 22, 35, 44, 53, 61, 5, 0, 0, 1...  \n"
     ]
    }
   ],
   "source": [
    "df_cache = \"df.pickle\"\n",
    "if isfile(df_cache):\n",
    "    df = read_pickle(df_cache)\n",
    "else:\n",
    "    df = init_df(\"data\")\n",
    "    df.to_pickle(df_cache)\n",
    "print(df.shape)\n",
    "print(df.dtypes)\n",
    "print(df.head())"
   ]
  },
  {
   "cell_type": "code",
   "execution_count": 4,
   "metadata": {
    "collapsed": false,
    "scrolled": true
   },
   "outputs": [
    {
     "name": "stdout",
     "output_type": "stream",
     "text": [
      "(200, 14)\n",
      "           name class                                    sift_key_points  \\\n",
      "0  image001.JPG     0  [{u'response': 0.0780883580446, u'angle': 296....   \n",
      "1  image002.JPG     0  [{u'response': 0.0773346424103, u'angle': 84.5...   \n",
      "2  image003.JPG     0  [{u'response': 0.086534768343, u'angle': 91.15...   \n",
      "3  image004.JPG     0  [{u'response': 0.059586878866, u'angle': 279.4...   \n",
      "4  image006.JPG     1  [{u'response': 0.0622775293887, u'angle': 269....   \n",
      "\n",
      "                                 sift_kp_descriptors split_0 split_1 split_2  \\\n",
      "0  [[3, 121, 65, 3, 7, 3, 5, 3, 4, 41, 54, 39, 12...   train   train   train   \n",
      "1  [[7, 19, 8, 1, 1, 0, 16, 16, 6, 16, 20, 11, 1,...   train   train   train   \n",
      "2  [[138, 2, 0, 0, 55, 7, 0, 3, 53, 10, 0, 0, 142...    test    test   train   \n",
      "3  [[10, 42, 7, 2, 84, 81, 6, 0, 74, 109, 3, 2, 8...   train   train    test   \n",
      "4  [[100, 7, 0, 0, 22, 35, 44, 53, 61, 5, 0, 0, 1...   train    test   train   \n",
      "\n",
      "  split_3 split_4 split_5 split_6 split_7 split_8 split_9  \n",
      "0   train    test    test   train   train   train    test  \n",
      "1   train   train   train   train    test    test   train  \n",
      "2   train   train   train    test   train   train   train  \n",
      "3    test   train   train   train   train   train   train  \n",
      "4   train   train    test    test   train   train    test  \n"
     ]
    }
   ],
   "source": [
    "def new_split():\n",
    "    split = [\"train\"] * 200\n",
    "    for i in range(0, 50):\n",
    "        split[i * 4 + random.randint(0, 3)] = \"test\"\n",
    "    return split\n",
    "for i in range(0, 10):\n",
    "    split_name = \"split_\" + str(i)\n",
    "    df[split_name] = new_split()\n",
    "    df[split_name] = df[split_name].astype(\"category\")\n",
    "print(df.shape)\n",
    "print(df.head())"
   ]
  },
  {
   "cell_type": "code",
   "execution_count": 5,
   "metadata": {
    "collapsed": false
   },
   "outputs": [],
   "source": [
    "def get_training_set(split_id):\n",
    "    df_train = df[df[\"split_\" + str(split_id)] == \"train\"]\n",
    "    df_train_sift_des = list(df_train[\"sift_kp_descriptors\"])\n",
    "    df_train_class = list(df_train[\"class\"])\n",
    "    train_x, train_y = list(), list()\n",
    "    for i in range(0, 150):\n",
    "        for d in df_train_sift_des[i]:\n",
    "            train_x.append(d)\n",
    "            train_y.append(df_train_class[i])\n",
    "    return train_x, train_y"
   ]
  },
  {
   "cell_type": "code",
   "execution_count": 6,
   "metadata": {
    "collapsed": false
   },
   "outputs": [],
   "source": [
    "def test(classifier, split_id):\n",
    "    df_test = df[df[\"split_\" + str(split_id)] == \"test\"]\n",
    "    df_test_sift_des = list(df_test[\"sift_kp_descriptors\"])\n",
    "    df_test_name = list(df_test[\"name\"])\n",
    "    predict = np.zeros(50, dtype=np.uint8)\n",
    "    for i in range(0, 50):\n",
    "        progress = int(i / 50.0 * 1000) / 10.0\n",
    "        print(\"split_{} {} {}%\".format(split_id, df_test_name[i], progress), end=\"\\r\")\n",
    "        vote = np.zeros(50, dtype=np.uint16)\n",
    "        for d in df_test_sift_des[i]:\n",
    "            vote[classifier.predict(d)[0]] += 1\n",
    "        predict[i] = vote.argmax()\n",
    "    return predict"
   ]
  },
  {
   "cell_type": "code",
   "execution_count": 8,
   "metadata": {
    "collapsed": false
   },
   "outputs": [
    {
     "name": "stdout",
     "output_type": "stream",
     "text": [
      "[42 41 39 40 38 39 42 42 42 38]\n",
      "mean=40.3, sigma=1.61554944214\n"
     ]
    }
   ],
   "source": [
    "classifier = KNeighborsClassifier(n_neighbors=5, weights=\"distance\", metric=cos_dist)\n",
    "# scipy.spatial.distance.cosine is much faster than sklearn.metrics.pairwise.cosine_distances\n",
    "accuracy = np.zeros(10, dtype=np.uint8)\n",
    "for i in range(0, 10):\n",
    "    train_x, train_y = get_training_set(i)\n",
    "    predict = test(classifier.fit(train_x, train_y), i)\n",
    "    accuracy[i] = sum(np.linspace(0, 49, num=50) == predict)\n",
    "print(accuracy)\n",
    "print(\"mean={}, sigma={}\".format(np.mean(accuracy), np.std(accuracy)))"
   ]
  },
  {
   "cell_type": "code",
   "execution_count": null,
   "metadata": {
    "collapsed": true
   },
   "outputs": [],
   "source": []
  }
 ],
 "metadata": {
  "kernelspec": {
   "display_name": "Python 2",
   "language": "python",
   "name": "python2"
  },
  "language_info": {
   "codemirror_mode": {
    "name": "ipython",
    "version": 2
   },
   "file_extension": ".py",
   "mimetype": "text/x-python",
   "name": "python",
   "nbconvert_exporter": "python",
   "pygments_lexer": "ipython2",
   "version": "2.7.6"
  }
 },
 "nbformat": 4,
 "nbformat_minor": 0
}
